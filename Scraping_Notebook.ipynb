{
 "cells": [
  {
   "cell_type": "markdown",
   "id": "4418e8ba",
   "metadata": {},
   "source": [
    "# CRAWLING NOTEBOOK\n",
    "In this notebook we get our data about stock prices from : https://finance.yahoo.com/.\n",
    "We used selenium to scrap data from yahoo finance:\n",
    "\n",
    "* Daily SPY = 'https://finance.yahoo.com/quote/SPY/history?period1=974678400&period2=1655683200&interval=1d&filter=history&frequency=1d&includeAdjustedClose=true'\n",
    "* Daily QQQ = 'https://finance.yahoo.com/quote/QQQ/history?period1=974678400&period2=1655683200&interval=1d&filter=history&frequency=1d&includeAdjustedClose=true'\n",
    "\n",
    "After we get our data (as tables) we made 2 data seperated dataframes for each stock, on each data frame we cleaned the data that we dont need and saved them as csv files for the next notebook.\n"
   ]
  },
  {
   "cell_type": "markdown",
   "id": "a99a648a",
   "metadata": {},
   "source": [
    "# ---------------------------------------------------------------------------------------------------------------"
   ]
  },
  {
   "cell_type": "code",
   "execution_count": 1,
   "id": "3f8bcb07",
   "metadata": {},
   "outputs": [],
   "source": [
    "import pandas as pd\n",
    "from selenium import webdriver\n",
    "from selenium.webdriver.common.keys import Keys\n",
    "import time\n",
    "import os"
   ]
  },
  {
   "cell_type": "code",
   "execution_count": 2,
   "id": "5a74b751",
   "metadata": {},
   "outputs": [],
   "source": [
    "df_Naaim = pd.read_csv(\"USE_Data-since-Inception_2022-5-11-updated (1).csv\")\n",
    "df_AAii = pd.read_csv(\"sentiment.csv\")"
   ]
  },
  {
   "cell_type": "code",
   "execution_count": 3,
   "id": "f0691ae3",
   "metadata": {},
   "outputs": [],
   "source": [
    "df_Naaim = df_Naaim.drop(df_Naaim.columns[2:], axis=1)\n",
    "df_Naaim.to_csv('Naaim_data.csv',index=False)"
   ]
  },
  {
   "cell_type": "code",
   "execution_count": 4,
   "id": "b4d4fafa",
   "metadata": {},
   "outputs": [],
   "source": [
    "def data_scraping(chrome_driver, http_get):\n",
    "    driver = webdriver.Chrome(chrome_driver)\n",
    "    driver.get(http_get)\n",
    "    time.sleep(5)\n",
    "\n",
    "    date_header = driver.find_element_by_xpath('//thead/tr/th[1]/span').text\n",
    "    close_price_header = driver.find_element_by_xpath('//thead/tr/th[5]/span').text[:-1]\n",
    "    \n",
    "    open_price_header = driver.find_element_by_xpath('//thead/tr/th[2]/span').text\n",
    "    high_price_header = driver.find_element_by_xpath('//thead/tr/th[3]/span').text\n",
    "    low_price_header = driver.find_element_by_xpath('//thead/tr/th[4]/span').text\n",
    "    adj_close_header = driver.find_element_by_xpath('//thead/tr/th[6]/span').text[:-1]\n",
    "\n",
    "\n",
    "    prev_height = driver.execute_script('return document.documentElement.scrollHeight')\n",
    "\n",
    "    while True:\n",
    "        driver.execute_script('window.scrollTo(0, document.documentElement.scrollHeight);')\n",
    "        new_height = driver.execute_script('return document.documentElement.scrollHeight')\n",
    "\n",
    "        time.sleep(3)\n",
    "\n",
    "        if new_height == prev_height:\n",
    "            trs = driver.find_elements_by_xpath('//tbody/tr')\n",
    "            dates = driver.find_elements_by_xpath('//tbody/tr/td[1]/span')\n",
    "            close_prices = driver.find_elements_by_xpath('//tbody/tr/td[5]/span')\n",
    "            \n",
    "            open_prices = driver.find_elements_by_xpath('//tbody/tr/td[2]/span')\n",
    "            high_prices = driver.find_elements_by_xpath('//tbody/tr/td[3]/span')\n",
    "            low_prices = driver.find_elements_by_xpath('//tbody/tr/td[4]/span')\n",
    "            adj_close = driver.find_elements_by_xpath('//tbody/tr/td[6]/span')\n",
    "            \n",
    "#             return (trs, dates, close_prices, date_header, close_price_header)\n",
    "            return (trs, dates, close_prices, date_header, close_price_header, open_price_header,high_price_header,low_price_header,adj_close_header,open_prices, high_prices,low_prices,adj_close)\n",
    "\n",
    "        prev_height = new_height"
   ]
  },
  {
   "cell_type": "code",
   "execution_count": 5,
   "id": "567a99cb",
   "metadata": {},
   "outputs": [],
   "source": [
    "def dates_order(dates, trs):\n",
    "    new_dates_list=[]\n",
    "    for tr in range(len(dates)):\n",
    "        if len(trs[tr].text) > 40: \n",
    "            new_dates_list.append(dates[tr])\n",
    "    return new_dates_list "
   ]
  },
  {
   "cell_type": "code",
   "execution_count": 6,
   "id": "8153880b",
   "metadata": {},
   "outputs": [],
   "source": [
    "def create_table_daily(dates_list, close_prices_list, date_header, close_price_header, open_price_header, high_price_header, low_price_header, adj_close_header, open_prices_list, high_prices_list, low_prices_list, adj_close_list):\n",
    "    total_prices = []\n",
    "    for i in range(len(close_prices_list)):\n",
    "        temp_data = {date_header : dates_list[i].text,\n",
    "                    close_price_header : close_prices_list[i].text,\n",
    "                    open_price_header : open_prices_list[i].text,\n",
    "                    high_price_header : high_prices_list[i].text,\n",
    "                    low_price_header : low_prices_list[i].text,\n",
    "                    adj_close_header : adj_close_list[i].text}\n",
    "                    \n",
    "        total_prices.append(temp_data)\n",
    "    return total_prices \n"
   ]
  },
  {
   "cell_type": "code",
   "execution_count": 7,
   "id": "e47e6fca",
   "metadata": {},
   "outputs": [],
   "source": [
    "def create_table_monthly(dates_list, close_prices_list, date_headers, close_price_headers):\n",
    "    total_prices = []\n",
    "    for i in range(len(close_prices_list)):\n",
    "        temp_data = {date_headers : dates_list[i].text,\n",
    "                    close_price_headers : close_prices_list[i].text}\n",
    "        total_prices.append(temp_data)\n",
    "    return total_prices      "
   ]
  },
  {
   "cell_type": "code",
   "execution_count": 8,
   "id": "23c70431",
   "metadata": {},
   "outputs": [],
   "source": [
    "my_chrome_driver = 'C:/Users/Nick/Documents/chrome driver/chromedriver.exe'\n",
    "\n",
    "http_get_2004_2022_daily_spy = 'https://finance.yahoo.com/quote/SPY/history?period1=974678400&period2=1655683200&interval=1d&filter=history&frequency=1d&includeAdjustedClose=true'\n",
    "http_get_2004_2022_monthly_spy = 'https://finance.yahoo.com/quote/SPY/history?period1=974678400&period2=1655683200&interval=1mo&filter=history&frequency=1mo&includeAdjustedClose=true'\n",
    "\n",
    "http_get_2004_2022_daily_qqq = 'https://finance.yahoo.com/quote/QQQ/history?period1=974678400&period2=1655683200&interval=1d&filter=history&frequency=1d&includeAdjustedClose=true'\n",
    "http_get_2004_2022_monthly_qqq = 'https://finance.yahoo.com/quote/QQQ/history?period1=974678400&period2=1655683200&interval=1mo&filter=history&frequency=1mo&includeAdjustedClose=true'"
   ]
  },
  {
   "cell_type": "code",
   "execution_count": 26,
   "id": "a03dcac2",
   "metadata": {},
   "outputs": [],
   "source": [
    "spy_daily_data_call_list = list(data_scraping(my_chrome_driver, http_get_2004_2022_daily_spy))"
   ]
  },
  {
   "cell_type": "code",
   "execution_count": 14,
   "id": "22976a59",
   "metadata": {},
   "outputs": [],
   "source": [
    "qqq_daily_data_call_list = list(data_scraping(my_chrome_driver, http_get_2004_2022_daily_qqq))"
   ]
  },
  {
   "cell_type": "code",
   "execution_count": 15,
   "id": "0c2e4ecb",
   "metadata": {},
   "outputs": [],
   "source": [
    "spy_monthly_data_call_list = list(data_scraping(my_chrome_driver, http_get_2004_2022_monthly_spy))"
   ]
  },
  {
   "cell_type": "code",
   "execution_count": 16,
   "id": "85be8ff5",
   "metadata": {},
   "outputs": [],
   "source": [
    "qqq_monthly_data_call_list = list(data_scraping(my_chrome_driver, http_get_2004_2022_monthly_qqq))"
   ]
  },
  {
   "cell_type": "code",
   "execution_count": 18,
   "id": "39388dc5",
   "metadata": {},
   "outputs": [],
   "source": [
    "spy_daily_data_call_list[1] = dates_order(spy_daily_data_call_list[1], spy_daily_data_call_list[0])\n",
    "spy_monthly_data_call_list[1] = dates_order(spy_monthly_data_call_list[1], spy_monthly_data_call_list[0])\n",
    "\n",
    "qqq_daily_data_call_list[1] = dates_order(qqq_daily_data_call_list[1], qqq_daily_data_call_list[0])\n",
    "qqq_monthly_data_call_list[1] = dates_order(qqq_monthly_data_call_list[1], qqq_monthly_data_call_list[0])"
   ]
  },
  {
   "cell_type": "code",
   "execution_count": 43,
   "id": "ab4f0422",
   "metadata": {},
   "outputs": [],
   "source": [
    "spy_daily_data_table = create_table_daily(spy_daily_data_call_list[1], spy_daily_data_call_list[2], f'Daily {spy_daily_data_call_list[3]}', f'SPY Daily {spy_daily_data_call_list[4]}', f'SPY Daily {spy_daily_data_call_list[5]}', f'SPY Daily {spy_daily_data_call_list[6]}', f'SPY Daily {spy_daily_data_call_list[7]}', f'SPY Daily {spy_daily_data_call_list[8]}', spy_daily_data_call_list[9], spy_daily_data_call_list[10], spy_daily_data_call_list[11], spy_daily_data_call_list[12]) \n",
    "spy_monthly_data_table = create_table_monthly(spy_monthly_data_call_list[1], spy_monthly_data_call_list[2], f'Monthly {spy_monthly_data_call_list[3]}', f'SPY Monthly {spy_monthly_data_call_list[4]}')\n",
    "\n",
    "qqq_daily_data_table = create_table_daily(qqq_daily_data_call_list[1], qqq_daily_data_call_list[2], f'Daily {qqq_daily_data_call_list[3]}', f'QQQ Daily {qqq_daily_data_call_list[4]}', f'QQQ Daily {qqq_daily_data_call_list[5]}', f'QQQ Daily {qqq_daily_data_call_list[6]}', f'QQQ Daily {qqq_daily_data_call_list[7]}', f'QQQ Daily {qqq_daily_data_call_list[8]}', qqq_daily_data_call_list[9], qqq_daily_data_call_list[10], qqq_daily_data_call_list[11], qqq_daily_data_call_list[12]) \n",
    "qqq_monthly_data_table = create_table_monthly(qqq_monthly_data_call_list[1], qqq_monthly_data_call_list[2], f'Monthly {qqq_monthly_data_call_list[3]}', f'QQQ Monthly {qqq_monthly_data_call_list[4]}')"
   ]
  },
  {
   "cell_type": "code",
   "execution_count": 32,
   "id": "c5a0b3bd",
   "metadata": {},
   "outputs": [],
   "source": [
    "df_spy_daily = pd.DataFrame(spy_daily_data_table)\n",
    "df_spy_monthly = pd.DataFrame(spy_monthly_data_table)\n",
    "\n",
    "df_qqq_daily = pd.DataFrame(qqq_daily_data_table)\n",
    "df_qqq_monthly = pd.DataFrame(qqq_monthly_data_table)"
   ]
  },
  {
   "cell_type": "code",
   "execution_count": 56,
   "id": "724ff1cf",
   "metadata": {},
   "outputs": [],
   "source": [
    "df_spy_daily = df_spy_daily.drop(columns=['SPY Daily Open', 'SPY Daily High', 'SPY Daily Low', 'SPY Daily Adj Close*'])\n",
    "\n",
    "df_qqq_daily = df_qqq_daily.drop(columns=['QQQ Daily Open', 'QQQ Daily High', 'QQQ Daily Low', 'QQQ Daily Adj Close*'])"
   ]
  },
  {
   "cell_type": "code",
   "execution_count": 62,
   "id": "6e84a7fa",
   "metadata": {},
   "outputs": [],
   "source": [
    "merged_df.to_csv('total_prices_scraping_spy_qqq_daily_merged_2000_2022.csv',index=False)\n",
    "\n",
    "df_spy_daily.to_csv('total_prices_scraping_spy_daily_2000_2022.csv',index=False)\n",
    "df_spy_monthly.to_csv('total_prices_scraping_spy_monthly2000_2022.csv',index=False)\n",
    "df_qqq_daily.to_csv('total_prices_scraping_qqq_daily_2000_2022.csv',index=False)\n",
    "df_qqq_monthly.to_csv('total_prices_scraping_qqq_monthly2000_2022.csv',index=False)"
   ]
  }
 ],
 "metadata": {
  "kernelspec": {
   "display_name": "Python 3 (ipykernel)",
   "language": "python",
   "name": "python3"
  },
  "language_info": {
   "codemirror_mode": {
    "name": "ipython",
    "version": 3
   },
   "file_extension": ".py",
   "mimetype": "text/x-python",
   "name": "python",
   "nbconvert_exporter": "python",
   "pygments_lexer": "ipython3",
   "version": "3.9.7"
  }
 },
 "nbformat": 4,
 "nbformat_minor": 5
}
